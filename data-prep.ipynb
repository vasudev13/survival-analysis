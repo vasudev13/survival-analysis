{
 "cells": [
  {
   "cell_type": "code",
   "execution_count": 1,
   "id": "df125eda-823c-40d3-9437-f5f200a431a2",
   "metadata": {},
   "outputs": [],
   "source": [
    "import pandas as pd"
   ]
  },
  {
   "cell_type": "code",
   "execution_count": 2,
   "id": "5102cb63-3d62-40fc-8314-d040820d3c07",
   "metadata": {},
   "outputs": [],
   "source": [
    "col_names = pd.read_csv('mimic_synthetic_feat.name', sep = ' ', header = None)\n",
    "col_names = [c[0] for c in col_names.values.tolist()]"
   ]
  },
  {
   "cell_type": "code",
   "execution_count": 3,
   "id": "934b9061-85d8-4520-a4dd-dbb10ae0f908",
   "metadata": {},
   "outputs": [],
   "source": [
    "train =  pd.read_csv('mimic_synthetic_train.data', sep = ' ', header = None, names = col_names)"
   ]
  },
  {
   "cell_type": "code",
   "execution_count": 4,
   "id": "2fbc795d-cd22-450c-be88-282689103e46",
   "metadata": {},
   "outputs": [],
   "source": [
    "label_name = pd.read_csv('mimic_synthetic_label.name', header = None)\n",
    "target_colname = label_name.values[0][0]"
   ]
  },
  {
   "cell_type": "code",
   "execution_count": 5,
   "id": "042ed91a-7a01-4144-a4ca-cbe29bd76127",
   "metadata": {},
   "outputs": [],
   "source": [
    "label_col = pd.read_csv('mimic_synthetic_train.solution', header = None)\n",
    "train[target_colname] = label_col.values.flatten().tolist()"
   ]
  },
  {
   "cell_type": "code",
   "execution_count": 6,
   "id": "9cc93326-273f-4091-ba4c-9eba150b8c38",
   "metadata": {},
   "outputs": [],
   "source": [
    "train.to_csv('train.csv', index = False)"
   ]
  },
  {
   "cell_type": "code",
   "execution_count": 7,
   "id": "033df407-405a-42b9-820c-90e2cb5aeeda",
   "metadata": {},
   "outputs": [],
   "source": [
    "test =  pd.read_csv('mimic_synthetic_test.data', sep = ' ', header = None, names = col_names)"
   ]
  },
  {
   "cell_type": "code",
   "execution_count": 8,
   "id": "b2413ca0-6f0b-42ba-9ba5-e21045d30242",
   "metadata": {},
   "outputs": [],
   "source": [
    "test.to_csv('test.csv', index = False)"
   ]
  }
 ],
 "metadata": {
  "kernelspec": {
   "display_name": "Python 3",
   "language": "python",
   "name": "python3"
  },
  "language_info": {
   "codemirror_mode": {
    "name": "ipython",
    "version": 3
   },
   "file_extension": ".py",
   "mimetype": "text/x-python",
   "name": "python",
   "nbconvert_exporter": "python",
   "pygments_lexer": "ipython3",
   "version": "3.8.8"
  }
 },
 "nbformat": 4,
 "nbformat_minor": 5
}
